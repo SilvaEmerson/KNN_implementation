{
 "cells": [
  {
   "cell_type": "code",
   "execution_count": null,
   "metadata": {},
   "outputs": [
    {
     "name": "stdout",
     "output_type": "stream",
     "text": [
      "[5, 4, 4, 5, 7, 10, 3, 2, 1, 2]\n",
      "\n",
      "===========Diagnóstico de câncer de Mama===========\n",
      "\n",
      "\n",
      "Porcentagem de treino:90\n"
     ]
    }
   ],
   "source": [
    "#-*- coding:utf-8 -*-\n",
    "\n",
    "from data_process import cleanData\n",
    "from KNN2 import KNN\n",
    "import matplotlib.pyplot as plt\n",
    "\n",
    "print(\"\\n===========Diagnóstico de câncer de Mama===========\\n\\n\")\n",
    "percent = float(input(\"Porcentagem de treino:\")) / 100\n",
    "k = int(input(\"Digite o K:\"))\n",
    "\n",
    "limit = int(percent*len(cleanData))\n",
    "\n",
    "features_train = [i[:-1] for i in cleanData[:limit]]\n",
    "features_test = [i[:-1] for i in cleanData[limit:]]\n",
    "\n",
    "labels_train = [i[-1] for i in cleanData[:limit]]\n",
    "labels_test = [i[-1] for i in cleanData[limit:]]\n",
    "\n",
    "\n",
    "knn = KNN()\n",
    "knn.train(features_train, labels_train)\n",
    "knn.predict(features_test, k)\n",
    "\n",
    "print(\"\\nCasos de treino: %d \\nCasos de teste: %d \\nAcurácia: %.2f %%\" %(len(features_train),\n",
    " len(features_test), knn.score(labels_test)))\n",
    "\n",
    "scores = []\n",
    "for i in range(1, 10, 2):\n",
    "    knn.predict(features_test, i)\n",
    "    scores.append(knn.score(labels_test))\n",
    "\n",
    "plt.plot(list(range(1, 10, 2)), scores)\n",
    "plt.show()\n"
   ]
  }
 ],
 "metadata": {
  "kernelspec": {
   "display_name": "Python 3",
   "language": "python",
   "name": "python3"
  },
  "language_info": {
   "codemirror_mode": {
    "name": "ipython",
    "version": 3
   },
   "file_extension": ".py",
   "mimetype": "text/x-python",
   "name": "python",
   "nbconvert_exporter": "python",
   "pygments_lexer": "ipython3",
   "version": "3.6.2"
  }
 },
 "nbformat": 4,
 "nbformat_minor": 2
}
